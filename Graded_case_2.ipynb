{
 "cells": [
  {
   "cell_type": "markdown",
   "source": "# Graded Case 1",
   "metadata": {
    "tags": [],
    "is_collapsed": false,
    "cell_id": "00000-8c108e35-baa8-4a16-8f21-b8c0f9bf71d2",
    "deepnote_cell_type": "text-cell-h1"
   }
  },
  {
   "cell_type": "markdown",
   "source": "## Business Problem",
   "metadata": {
    "tags": [],
    "is_collapsed": false,
    "cell_id": "00001-33a5a1ce-c0cf-4164-81c2-f9dfac2152b8",
    "deepnote_cell_type": "text-cell-h2"
   }
  },
  {
   "cell_type": "markdown",
   "source": "You are a Data Analyst at Ministerio de Salud Nacional. Currently your boss has assiged you he task of explaining the performance of the Covid-19 vaccination efforts worldwide",
   "metadata": {
    "tags": [],
    "cell_id": "00002-6357758e-8a80-4d37-a5e0-7901e8ef8941",
    "deepnote_cell_type": "markdown"
   }
  },
  {
   "cell_type": "markdown",
   "source": "## Packages Import",
   "metadata": {
    "tags": [],
    "is_collapsed": false,
    "cell_id": "00003-6133cb06-cde1-4ce6-bc08-5fff5ce90cf8",
    "deepnote_cell_type": "text-cell-h2"
   }
  },
  {
   "cell_type": "code",
   "metadata": {
    "tags": [],
    "cell_id": "00004-b4a2e549-e05d-4455-ac5b-bb054d5af74d",
    "deepnote_to_be_reexecuted": false,
    "source_hash": "bfc0ddb6",
    "execution_start": 1634050045283,
    "execution_millis": 559,
    "deepnote_cell_type": "code"
   },
   "source": "import pandas as pd\nimport seaborn as sns\nimport matplotlib.pyplot as plt",
   "execution_count": 1,
   "outputs": []
  },
  {
   "cell_type": "markdown",
   "source": "## Data Import",
   "metadata": {
    "tags": [],
    "is_collapsed": false,
    "cell_id": "00005-d6d32109-c84c-4c2d-b45b-64e128a103d0",
    "deepnote_cell_type": "text-cell-h2"
   }
  },
  {
   "cell_type": "markdown",
   "source": "The information needed for this case is public information that can be downloades from [Our Wolrd in Data](https://ourworldindata.org/coronavirus)",
   "metadata": {
    "tags": [],
    "cell_id": "00006-09d5a131-b7c1-4b4f-bc94-97fe412e0ede",
    "deepnote_cell_type": "markdown"
   }
  },
  {
   "cell_type": "code",
   "metadata": {
    "tags": [],
    "cell_id": "00006-3367b851-c411-404c-ac16-119f28be849e",
    "deepnote_to_be_reexecuted": false,
    "source_hash": "a230cbc2",
    "execution_start": 1634050045846,
    "execution_millis": 206,
    "deepnote_cell_type": "code"
   },
   "source": "df_vaccinations = pd.read_csv('/work/indu5000_case_C2/Data/vaccinations.csv')\ndf_vaccinations.head(3)",
   "execution_count": 2,
   "outputs": [
    {
     "output_type": "execute_result",
     "execution_count": 2,
     "data": {
      "application/vnd.deepnote.dataframe.v2+json": {
       "row_count": 3,
       "column_count": 14,
       "columns": [
        {
         "name": "location",
         "dtype": "object",
         "stats": {
          "unique_count": 1,
          "nan_count": 0,
          "categories": [
           {
            "name": "Afghanistan",
            "count": 3
           }
          ]
         }
        },
        {
         "name": "iso_code",
         "dtype": "object",
         "stats": {
          "unique_count": 1,
          "nan_count": 0,
          "categories": [
           {
            "name": "AFG",
            "count": 3
           }
          ]
         }
        },
        {
         "name": "date",
         "dtype": "object",
         "stats": {
          "unique_count": 3,
          "nan_count": 0,
          "categories": [
           {
            "name": "2021-02-22",
            "count": 1
           },
           {
            "name": "2021-02-23",
            "count": 1
           },
           {
            "name": "2021-02-24",
            "count": 1
           }
          ]
         }
        },
        {
         "name": "total_vaccinations",
         "dtype": "float64",
         "stats": {
          "unique_count": 1,
          "nan_count": 2,
          "min": "0.0",
          "max": "0.0",
          "histogram": [
           {
            "bin_start": -0.5,
            "bin_end": -0.4,
            "count": 0
           },
           {
            "bin_start": -0.4,
            "bin_end": -0.3,
            "count": 0
           },
           {
            "bin_start": -0.3,
            "bin_end": -0.19999999999999996,
            "count": 0
           },
           {
            "bin_start": -0.19999999999999996,
            "bin_end": -0.09999999999999998,
            "count": 0
           },
           {
            "bin_start": -0.09999999999999998,
            "bin_end": 0,
            "count": 0
           },
           {
            "bin_start": 0,
            "bin_end": 0.10000000000000009,
            "count": 1
           },
           {
            "bin_start": 0.10000000000000009,
            "bin_end": 0.20000000000000007,
            "count": 0
           },
           {
            "bin_start": 0.20000000000000007,
            "bin_end": 0.30000000000000004,
            "count": 0
           },
           {
            "bin_start": 0.30000000000000004,
            "bin_end": 0.4,
            "count": 0
           },
           {
            "bin_start": 0.4,
            "bin_end": 0.5,
            "count": 0
           }
          ]
         }
        },
        {
         "name": "people_vaccinated",
         "dtype": "float64",
         "stats": {
          "unique_count": 1,
          "nan_count": 2,
          "min": "0.0",
          "max": "0.0",
          "histogram": [
           {
            "bin_start": -0.5,
            "bin_end": -0.4,
            "count": 0
           },
           {
            "bin_start": -0.4,
            "bin_end": -0.3,
            "count": 0
           },
           {
            "bin_start": -0.3,
            "bin_end": -0.19999999999999996,
            "count": 0
           },
           {
            "bin_start": -0.19999999999999996,
            "bin_end": -0.09999999999999998,
            "count": 0
           },
           {
            "bin_start": -0.09999999999999998,
            "bin_end": 0,
            "count": 0
           },
           {
            "bin_start": 0,
            "bin_end": 0.10000000000000009,
            "count": 1
           },
           {
            "bin_start": 0.10000000000000009,
            "bin_end": 0.20000000000000007,
            "count": 0
           },
           {
            "bin_start": 0.20000000000000007,
            "bin_end": 0.30000000000000004,
            "count": 0
           },
           {
            "bin_start": 0.30000000000000004,
            "bin_end": 0.4,
            "count": 0
           },
           {
            "bin_start": 0.4,
            "bin_end": 0.5,
            "count": 0
           }
          ]
         }
        },
        {
         "name": "people_fully_vaccinated",
         "dtype": "float64",
         "stats": {
          "unique_count": 0,
          "nan_count": 3,
          "min": null,
          "max": null,
          "histogram": [
           {
            "bin_start": 0,
            "bin_end": 0.1,
            "count": 0
           },
           {
            "bin_start": 0.1,
            "bin_end": 0.2,
            "count": 0
           },
           {
            "bin_start": 0.2,
            "bin_end": 0.30000000000000004,
            "count": 0
           },
           {
            "bin_start": 0.30000000000000004,
            "bin_end": 0.4,
            "count": 0
           },
           {
            "bin_start": 0.4,
            "bin_end": 0.5,
            "count": 0
           },
           {
            "bin_start": 0.5,
            "bin_end": 0.6000000000000001,
            "count": 0
           },
           {
            "bin_start": 0.6000000000000001,
            "bin_end": 0.7000000000000001,
            "count": 0
           },
           {
            "bin_start": 0.7000000000000001,
            "bin_end": 0.8,
            "count": 0
           },
           {
            "bin_start": 0.8,
            "bin_end": 0.9,
            "count": 0
           },
           {
            "bin_start": 0.9,
            "bin_end": 1,
            "count": 0
           }
          ]
         }
        },
        {
         "name": "total_boosters",
         "dtype": "float64",
         "stats": {
          "unique_count": 0,
          "nan_count": 3,
          "min": null,
          "max": null,
          "histogram": [
           {
            "bin_start": 0,
            "bin_end": 0.1,
            "count": 0
           },
           {
            "bin_start": 0.1,
            "bin_end": 0.2,
            "count": 0
           },
           {
            "bin_start": 0.2,
            "bin_end": 0.30000000000000004,
            "count": 0
           },
           {
            "bin_start": 0.30000000000000004,
            "bin_end": 0.4,
            "count": 0
           },
           {
            "bin_start": 0.4,
            "bin_end": 0.5,
            "count": 0
           },
           {
            "bin_start": 0.5,
            "bin_end": 0.6000000000000001,
            "count": 0
           },
           {
            "bin_start": 0.6000000000000001,
            "bin_end": 0.7000000000000001,
            "count": 0
           },
           {
            "bin_start": 0.7000000000000001,
            "bin_end": 0.8,
            "count": 0
           },
           {
            "bin_start": 0.8,
            "bin_end": 0.9,
            "count": 0
           },
           {
            "bin_start": 0.9,
            "bin_end": 1,
            "count": 0
           }
          ]
         }
        },
        {
         "name": "daily_vaccinations_raw",
         "dtype": "float64",
         "stats": {
          "unique_count": 0,
          "nan_count": 3,
          "min": null,
          "max": null,
          "histogram": [
           {
            "bin_start": 0,
            "bin_end": 0.1,
            "count": 0
           },
           {
            "bin_start": 0.1,
            "bin_end": 0.2,
            "count": 0
           },
           {
            "bin_start": 0.2,
            "bin_end": 0.30000000000000004,
            "count": 0
           },
           {
            "bin_start": 0.30000000000000004,
            "bin_end": 0.4,
            "count": 0
           },
           {
            "bin_start": 0.4,
            "bin_end": 0.5,
            "count": 0
           },
           {
            "bin_start": 0.5,
            "bin_end": 0.6000000000000001,
            "count": 0
           },
           {
            "bin_start": 0.6000000000000001,
            "bin_end": 0.7000000000000001,
            "count": 0
           },
           {
            "bin_start": 0.7000000000000001,
            "bin_end": 0.8,
            "count": 0
           },
           {
            "bin_start": 0.8,
            "bin_end": 0.9,
            "count": 0
           },
           {
            "bin_start": 0.9,
            "bin_end": 1,
            "count": 0
           }
          ]
         }
        },
        {
         "name": "daily_vaccinations",
         "dtype": "float64",
         "stats": {
          "unique_count": 1,
          "nan_count": 1,
          "min": "1367.0",
          "max": "1367.0",
          "histogram": [
           {
            "bin_start": 1366.5,
            "bin_end": 1366.6,
            "count": 0
           },
           {
            "bin_start": 1366.6,
            "bin_end": 1366.7,
            "count": 0
           },
           {
            "bin_start": 1366.7,
            "bin_end": 1366.8,
            "count": 0
           },
           {
            "bin_start": 1366.8,
            "bin_end": 1366.9,
            "count": 0
           },
           {
            "bin_start": 1366.9,
            "bin_end": 1367,
            "count": 0
           },
           {
            "bin_start": 1367,
            "bin_end": 1367.1,
            "count": 2
           },
           {
            "bin_start": 1367.1,
            "bin_end": 1367.2,
            "count": 0
           },
           {
            "bin_start": 1367.2,
            "bin_end": 1367.3,
            "count": 0
           },
           {
            "bin_start": 1367.3,
            "bin_end": 1367.4,
            "count": 0
           },
           {
            "bin_start": 1367.4,
            "bin_end": 1367.5,
            "count": 0
           }
          ]
         }
        },
        {
         "name": "total_vaccinations_per_hundred",
         "dtype": "float64",
         "stats": {
          "unique_count": 1,
          "nan_count": 2,
          "min": "0.0",
          "max": "0.0",
          "histogram": [
           {
            "bin_start": -0.5,
            "bin_end": -0.4,
            "count": 0
           },
           {
            "bin_start": -0.4,
            "bin_end": -0.3,
            "count": 0
           },
           {
            "bin_start": -0.3,
            "bin_end": -0.19999999999999996,
            "count": 0
           },
           {
            "bin_start": -0.19999999999999996,
            "bin_end": -0.09999999999999998,
            "count": 0
           },
           {
            "bin_start": -0.09999999999999998,
            "bin_end": 0,
            "count": 0
           },
           {
            "bin_start": 0,
            "bin_end": 0.10000000000000009,
            "count": 1
           },
           {
            "bin_start": 0.10000000000000009,
            "bin_end": 0.20000000000000007,
            "count": 0
           },
           {
            "bin_start": 0.20000000000000007,
            "bin_end": 0.30000000000000004,
            "count": 0
           },
           {
            "bin_start": 0.30000000000000004,
            "bin_end": 0.4,
            "count": 0
           },
           {
            "bin_start": 0.4,
            "bin_end": 0.5,
            "count": 0
           }
          ]
         }
        },
        {
         "name": "people_vaccinated_per_hundred",
         "dtype": "float64",
         "stats": {
          "unique_count": 1,
          "nan_count": 2,
          "min": "0.0",
          "max": "0.0",
          "histogram": [
           {
            "bin_start": -0.5,
            "bin_end": -0.4,
            "count": 0
           },
           {
            "bin_start": -0.4,
            "bin_end": -0.3,
            "count": 0
           },
           {
            "bin_start": -0.3,
            "bin_end": -0.19999999999999996,
            "count": 0
           },
           {
            "bin_start": -0.19999999999999996,
            "bin_end": -0.09999999999999998,
            "count": 0
           },
           {
            "bin_start": -0.09999999999999998,
            "bin_end": 0,
            "count": 0
           },
           {
            "bin_start": 0,
            "bin_end": 0.10000000000000009,
            "count": 1
           },
           {
            "bin_start": 0.10000000000000009,
            "bin_end": 0.20000000000000007,
            "count": 0
           },
           {
            "bin_start": 0.20000000000000007,
            "bin_end": 0.30000000000000004,
            "count": 0
           },
           {
            "bin_start": 0.30000000000000004,
            "bin_end": 0.4,
            "count": 0
           },
           {
            "bin_start": 0.4,
            "bin_end": 0.5,
            "count": 0
           }
          ]
         }
        },
        {
         "name": "people_fully_vaccinated_per_hundred",
         "dtype": "float64",
         "stats": {
          "unique_count": 0,
          "nan_count": 3,
          "min": null,
          "max": null,
          "histogram": [
           {
            "bin_start": 0,
            "bin_end": 0.1,
            "count": 0
           },
           {
            "bin_start": 0.1,
            "bin_end": 0.2,
            "count": 0
           },
           {
            "bin_start": 0.2,
            "bin_end": 0.30000000000000004,
            "count": 0
           },
           {
            "bin_start": 0.30000000000000004,
            "bin_end": 0.4,
            "count": 0
           },
           {
            "bin_start": 0.4,
            "bin_end": 0.5,
            "count": 0
           },
           {
            "bin_start": 0.5,
            "bin_end": 0.6000000000000001,
            "count": 0
           },
           {
            "bin_start": 0.6000000000000001,
            "bin_end": 0.7000000000000001,
            "count": 0
           },
           {
            "bin_start": 0.7000000000000001,
            "bin_end": 0.8,
            "count": 0
           },
           {
            "bin_start": 0.8,
            "bin_end": 0.9,
            "count": 0
           },
           {
            "bin_start": 0.9,
            "bin_end": 1,
            "count": 0
           }
          ]
         }
        },
        {
         "name": "total_boosters_per_hundred",
         "dtype": "float64",
         "stats": {
          "unique_count": 0,
          "nan_count": 3,
          "min": null,
          "max": null,
          "histogram": [
           {
            "bin_start": 0,
            "bin_end": 0.1,
            "count": 0
           },
           {
            "bin_start": 0.1,
            "bin_end": 0.2,
            "count": 0
           },
           {
            "bin_start": 0.2,
            "bin_end": 0.30000000000000004,
            "count": 0
           },
           {
            "bin_start": 0.30000000000000004,
            "bin_end": 0.4,
            "count": 0
           },
           {
            "bin_start": 0.4,
            "bin_end": 0.5,
            "count": 0
           },
           {
            "bin_start": 0.5,
            "bin_end": 0.6000000000000001,
            "count": 0
           },
           {
            "bin_start": 0.6000000000000001,
            "bin_end": 0.7000000000000001,
            "count": 0
           },
           {
            "bin_start": 0.7000000000000001,
            "bin_end": 0.8,
            "count": 0
           },
           {
            "bin_start": 0.8,
            "bin_end": 0.9,
            "count": 0
           },
           {
            "bin_start": 0.9,
            "bin_end": 1,
            "count": 0
           }
          ]
         }
        },
        {
         "name": "daily_vaccinations_per_million",
         "dtype": "float64",
         "stats": {
          "unique_count": 1,
          "nan_count": 1,
          "min": "34.0",
          "max": "34.0",
          "histogram": [
           {
            "bin_start": 33.5,
            "bin_end": 33.6,
            "count": 0
           },
           {
            "bin_start": 33.6,
            "bin_end": 33.7,
            "count": 0
           },
           {
            "bin_start": 33.7,
            "bin_end": 33.8,
            "count": 0
           },
           {
            "bin_start": 33.8,
            "bin_end": 33.9,
            "count": 0
           },
           {
            "bin_start": 33.9,
            "bin_end": 34,
            "count": 0
           },
           {
            "bin_start": 34,
            "bin_end": 34.1,
            "count": 2
           },
           {
            "bin_start": 34.1,
            "bin_end": 34.2,
            "count": 0
           },
           {
            "bin_start": 34.2,
            "bin_end": 34.3,
            "count": 0
           },
           {
            "bin_start": 34.3,
            "bin_end": 34.4,
            "count": 0
           },
           {
            "bin_start": 34.4,
            "bin_end": 34.5,
            "count": 0
           }
          ]
         }
        },
        {
         "name": "_deepnote_index_column",
         "dtype": "int64"
        }
       ],
       "rows_top": [
        {
         "location": "Afghanistan",
         "iso_code": "AFG",
         "date": "2021-02-22",
         "total_vaccinations": 0,
         "people_vaccinated": 0,
         "people_fully_vaccinated": "nan",
         "total_boosters": "nan",
         "daily_vaccinations_raw": "nan",
         "daily_vaccinations": "nan",
         "total_vaccinations_per_hundred": 0,
         "people_vaccinated_per_hundred": 0,
         "people_fully_vaccinated_per_hundred": "nan",
         "total_boosters_per_hundred": "nan",
         "daily_vaccinations_per_million": "nan",
         "_deepnote_index_column": 0
        },
        {
         "location": "Afghanistan",
         "iso_code": "AFG",
         "date": "2021-02-23",
         "total_vaccinations": "nan",
         "people_vaccinated": "nan",
         "people_fully_vaccinated": "nan",
         "total_boosters": "nan",
         "daily_vaccinations_raw": "nan",
         "daily_vaccinations": 1367,
         "total_vaccinations_per_hundred": "nan",
         "people_vaccinated_per_hundred": "nan",
         "people_fully_vaccinated_per_hundred": "nan",
         "total_boosters_per_hundred": "nan",
         "daily_vaccinations_per_million": 34,
         "_deepnote_index_column": 1
        },
        {
         "location": "Afghanistan",
         "iso_code": "AFG",
         "date": "2021-02-24",
         "total_vaccinations": "nan",
         "people_vaccinated": "nan",
         "people_fully_vaccinated": "nan",
         "total_boosters": "nan",
         "daily_vaccinations_raw": "nan",
         "daily_vaccinations": 1367,
         "total_vaccinations_per_hundred": "nan",
         "people_vaccinated_per_hundred": "nan",
         "people_fully_vaccinated_per_hundred": "nan",
         "total_boosters_per_hundred": "nan",
         "daily_vaccinations_per_million": 34,
         "_deepnote_index_column": 2
        }
       ],
       "rows_bottom": null
      },
      "text/plain": "      location iso_code        date  total_vaccinations  people_vaccinated  \\\n0  Afghanistan      AFG  2021-02-22                 0.0                0.0   \n1  Afghanistan      AFG  2021-02-23                 NaN                NaN   \n2  Afghanistan      AFG  2021-02-24                 NaN                NaN   \n\n   people_fully_vaccinated  total_boosters  daily_vaccinations_raw  \\\n0                      NaN             NaN                     NaN   \n1                      NaN             NaN                     NaN   \n2                      NaN             NaN                     NaN   \n\n   daily_vaccinations  total_vaccinations_per_hundred  \\\n0                 NaN                             0.0   \n1              1367.0                             NaN   \n2              1367.0                             NaN   \n\n   people_vaccinated_per_hundred  people_fully_vaccinated_per_hundred  \\\n0                            0.0                                  NaN   \n1                            NaN                                  NaN   \n2                            NaN                                  NaN   \n\n   total_boosters_per_hundred  daily_vaccinations_per_million  \n0                         NaN                             NaN  \n1                         NaN                            34.0  \n2                         NaN                            34.0  ",
      "text/html": "<div>\n<style scoped>\n    .dataframe tbody tr th:only-of-type {\n        vertical-align: middle;\n    }\n\n    .dataframe tbody tr th {\n        vertical-align: top;\n    }\n\n    .dataframe thead th {\n        text-align: right;\n    }\n</style>\n<table border=\"1\" class=\"dataframe\">\n  <thead>\n    <tr style=\"text-align: right;\">\n      <th></th>\n      <th>location</th>\n      <th>iso_code</th>\n      <th>date</th>\n      <th>total_vaccinations</th>\n      <th>people_vaccinated</th>\n      <th>people_fully_vaccinated</th>\n      <th>total_boosters</th>\n      <th>daily_vaccinations_raw</th>\n      <th>daily_vaccinations</th>\n      <th>total_vaccinations_per_hundred</th>\n      <th>people_vaccinated_per_hundred</th>\n      <th>people_fully_vaccinated_per_hundred</th>\n      <th>total_boosters_per_hundred</th>\n      <th>daily_vaccinations_per_million</th>\n    </tr>\n  </thead>\n  <tbody>\n    <tr>\n      <th>0</th>\n      <td>Afghanistan</td>\n      <td>AFG</td>\n      <td>2021-02-22</td>\n      <td>0.0</td>\n      <td>0.0</td>\n      <td>NaN</td>\n      <td>NaN</td>\n      <td>NaN</td>\n      <td>NaN</td>\n      <td>0.0</td>\n      <td>0.0</td>\n      <td>NaN</td>\n      <td>NaN</td>\n      <td>NaN</td>\n    </tr>\n    <tr>\n      <th>1</th>\n      <td>Afghanistan</td>\n      <td>AFG</td>\n      <td>2021-02-23</td>\n      <td>NaN</td>\n      <td>NaN</td>\n      <td>NaN</td>\n      <td>NaN</td>\n      <td>NaN</td>\n      <td>1367.0</td>\n      <td>NaN</td>\n      <td>NaN</td>\n      <td>NaN</td>\n      <td>NaN</td>\n      <td>34.0</td>\n    </tr>\n    <tr>\n      <th>2</th>\n      <td>Afghanistan</td>\n      <td>AFG</td>\n      <td>2021-02-24</td>\n      <td>NaN</td>\n      <td>NaN</td>\n      <td>NaN</td>\n      <td>NaN</td>\n      <td>NaN</td>\n      <td>1367.0</td>\n      <td>NaN</td>\n      <td>NaN</td>\n      <td>NaN</td>\n      <td>NaN</td>\n      <td>34.0</td>\n    </tr>\n  </tbody>\n</table>\n</div>"
     },
     "metadata": {}
    }
   ]
  },
  {
   "cell_type": "code",
   "metadata": {
    "tags": [],
    "cell_id": "00008-c98a3511-35fc-45ad-817a-1d8a62c44f74",
    "deepnote_to_be_reexecuted": false,
    "source_hash": "c1995d13",
    "execution_start": 1634050046022,
    "execution_millis": 37,
    "deepnote_cell_type": "code"
   },
   "source": "df_vaccinations.info()",
   "execution_count": 3,
   "outputs": [
    {
     "name": "stdout",
     "text": "<class 'pandas.core.frame.DataFrame'>\nRangeIndex: 52523 entries, 0 to 52522\nData columns (total 14 columns):\n #   Column                               Non-Null Count  Dtype  \n---  ------                               --------------  -----  \n 0   location                             52523 non-null  object \n 1   iso_code                             52523 non-null  object \n 2   date                                 52523 non-null  object \n 3   total_vaccinations                   30184 non-null  float64\n 4   people_vaccinated                    28820 non-null  float64\n 5   people_fully_vaccinated              25665 non-null  float64\n 6   total_boosters                       3466 non-null   float64\n 7   daily_vaccinations_raw               25349 non-null  float64\n 8   daily_vaccinations                   52266 non-null  float64\n 9   total_vaccinations_per_hundred       30184 non-null  float64\n 10  people_vaccinated_per_hundred        28820 non-null  float64\n 11  people_fully_vaccinated_per_hundred  25665 non-null  float64\n 12  total_boosters_per_hundred           3466 non-null   float64\n 13  daily_vaccinations_per_million       52266 non-null  float64\ndtypes: float64(11), object(3)\nmemory usage: 5.6+ MB\n",
     "output_type": "stream"
    }
   ]
  },
  {
   "cell_type": "markdown",
   "source": "## Data Transformation",
   "metadata": {
    "tags": [],
    "is_collapsed": false,
    "cell_id": "00008-d6d1c1cd-1eb4-4a5b-b0c9-bb4a58b5bbd6",
    "deepnote_cell_type": "text-cell-h2"
   }
  },
  {
   "cell_type": "markdown",
   "source": "### Question 1",
   "metadata": {
    "tags": [],
    "is_collapsed": false,
    "cell_id": "00009-9826bf91-fff7-4746-b312-623e8d1c1aee",
    "deepnote_cell_type": "text-cell-h3"
   }
  },
  {
   "cell_type": "markdown",
   "source": "Set the information contained on the column date as a Date",
   "metadata": {
    "tags": [],
    "cell_id": "00010-e0a8079b-6ebc-4e13-ae54-6735651c0547",
    "deepnote_cell_type": "markdown"
   }
  },
  {
   "cell_type": "markdown",
   "source": "### Question 2",
   "metadata": {
    "tags": [],
    "is_collapsed": false,
    "cell_id": "00012-6cd66f42-e8f0-4fdf-8d3d-2064a6286352",
    "deepnote_cell_type": "text-cell-h3"
   }
  },
  {
   "cell_type": "markdown",
   "source": "Plot the performance over time of the vaccination efforts on Colombia against the ones in Israel and Peru",
   "metadata": {
    "tags": [],
    "cell_id": "00012-7d3b4b71-6727-4dbf-a625-17940d23ead8",
    "deepnote_cell_type": "markdown"
   }
  },
  {
   "cell_type": "markdown",
   "source": "### Question 3",
   "metadata": {
    "tags": [],
    "is_collapsed": false,
    "cell_id": "00013-590a1cb1-0e5a-4ede-a0e5-3354fe7b5d21",
    "deepnote_cell_type": "text-cell-h3"
   }
  },
  {
   "cell_type": "markdown",
   "source": "Which is the last date that we have information from? And determine which countries have their information updated ",
   "metadata": {
    "tags": [],
    "cell_id": "00014-35baddcf-02ed-42cf-a21a-8686bd8dabc8",
    "deepnote_cell_type": "markdown"
   }
  },
  {
   "cell_type": "markdown",
   "source": "### Question 4",
   "metadata": {
    "tags": [],
    "is_collapsed": false,
    "cell_id": "00014-7884597b-3711-42ba-9c1a-36e363822078",
    "deepnote_cell_type": "text-cell-h3"
   }
  },
  {
   "cell_type": "markdown",
   "source": "Create a new dataframe with the maximum values of the recorded information for each country. TIP:\n\n- Set the column location as a categorical variable\n- Make a new dataframe called df_vaccination_grouped_country to store the dataset resulting of grouping the original dataset by country and selecting the maximum value for each country",
   "metadata": {
    "tags": [],
    "cell_id": "00016-5b1311ad-8d0c-4346-a825-6de1d7f9b301",
    "deepnote_cell_type": "markdown"
   }
  },
  {
   "cell_type": "markdown",
   "source": "### Question 5",
   "metadata": {
    "tags": [],
    "is_collapsed": false,
    "cell_id": "00015-7eefffa6-ba98-45d4-81de-e189519e59cd",
    "deepnote_cell_type": "text-cell-h3"
   }
  },
  {
   "cell_type": "markdown",
   "source": "What is the highest possile vaccination rate per hundred people on any country? And by how much a does each country needs to increase its vaccination efforts to be able to match the highest performer?",
   "metadata": {
    "tags": [],
    "cell_id": "00018-e8dad936-9846-44b2-bd94-fa94fa128a09",
    "deepnote_cell_type": "markdown"
   }
  },
  {
   "cell_type": "markdown",
   "source": "### Question 6",
   "metadata": {
    "tags": [],
    "is_collapsed": false,
    "cell_id": "00016-ecb616d9-5329-4ee0-b58d-9a6f66f3de67",
    "deepnote_cell_type": "text-cell-h3"
   }
  },
  {
   "cell_type": "markdown",
   "source": "Which countries have achieved a vaccination rate per hundred people higher than the 80th percentile",
   "metadata": {
    "tags": [],
    "cell_id": "00020-439f1f22-e8de-4315-876f-faa928fb47e4",
    "deepnote_cell_type": "markdown"
   }
  },
  {
   "cell_type": "markdown",
   "source": "### Question 7",
   "metadata": {
    "tags": [],
    "is_collapsed": false,
    "cell_id": "00017-85fb3f96-2450-43df-b131-657641ba4e5b",
    "deepnote_cell_type": "text-cell-h3"
   }
  },
  {
   "cell_type": "markdown",
   "source": "How many days, would each of the countries need in order to achive the total vaccination of its people?",
   "metadata": {
    "tags": [],
    "cell_id": "00023-6cf5ae2b-c96b-4903-aa28-d6d8387eace6",
    "deepnote_cell_type": "markdown"
   }
  },
  {
   "cell_type": "markdown",
   "source": "### Question 8",
   "metadata": {
    "tags": [],
    "is_collapsed": false,
    "cell_id": "00024-f87d25b2-3bb1-4805-ae77-18f13078522c",
    "deepnote_cell_type": "text-cell-h3"
   }
  },
  {
   "cell_type": "markdown",
   "source": "What other information could be obtained from this dataset that could be useful for the business situation?",
   "metadata": {
    "tags": [],
    "cell_id": "00025-a26427b6-78c7-4549-a668-73523b557883",
    "deepnote_cell_type": "markdown"
   }
  },
  {
   "cell_type": "markdown",
   "source": "<a style='text-decoration:none;line-height:16px;display:flex;color:#5B5B62;padding:10px;justify-content:end;' href='https://deepnote.com?utm_source=created-in-deepnote-cell&projectId=759d9e07-9af4-4562-8d06-de7a9bfd87e0' target=\"_blank\">\n<img alt='Created in deepnote.com' style='display:inline;max-height:16px;margin:0px;margin-right:7.5px;' src='data:image/svg+xml;base64,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' > </img>\nCreated in <span style='font-weight:600;margin-left:4px;'>Deepnote</span></a>",
   "metadata": {
    "tags": [],
    "created_in_deepnote_cell": true,
    "deepnote_cell_type": "markdown"
   }
  }
 ],
 "nbformat": 4,
 "nbformat_minor": 2,
 "metadata": {
  "orig_nbformat": 2,
  "deepnote": {
   "is_reactive": false
  },
  "deepnote_notebook_id": "cf1be1f7-5842-4474-b59e-3c78159631bd",
  "deepnote_execution_queue": []
 }
}